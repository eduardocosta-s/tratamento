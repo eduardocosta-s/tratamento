{
 "cells": [
  {
   "cell_type": "markdown",
   "metadata": {},
   "source": [
    "## NumPy\n",
    "\n",
    "https://numpy.org/"
   ]
  },
  {
   "cell_type": "code",
   "execution_count": 1,
   "metadata": {},
   "outputs": [],
   "source": [
    "# Importando o NumPy\n",
    "import numpy as np\n",
    "from numpy.linalg import inv\n",
    "from numpy.linalg import det"
   ]
  },
  {
   "cell_type": "code",
   "execution_count": 2,
   "metadata": {},
   "outputs": [
    {
     "name": "stdout",
     "output_type": "stream",
     "text": [
      "1.26.4\n"
     ]
    }
   ],
   "source": [
    "print(np.__version__)\n",
    "np.set_printoptions(suppress=True)"
   ]
  },
  {
   "cell_type": "markdown",
   "metadata": {},
   "source": [
    "### Criando Arrays NumPy"
   ]
  },
  {
   "cell_type": "code",
   "execution_count": 3,
   "metadata": {},
   "outputs": [
    {
     "name": "stdout",
     "output_type": "stream",
     "text": [
      "[1 2 3 4 5 6 7 8]\n"
     ]
    }
   ],
   "source": [
    "# Array criado a partir de uma lista Python\n",
    "a = np.array([1, 2,3,4,5,6,7,8])\n",
    "print(a)"
   ]
  },
  {
   "cell_type": "code",
   "execution_count": 4,
   "metadata": {},
   "outputs": [
    {
     "name": "stdout",
     "output_type": "stream",
     "text": [
      "[1.+0.j 2.+0.j 3.+0.j 4.+0.j 5.+0.j 6.+0.j 7.+0.j 8.+0.j]\n"
     ]
    }
   ],
   "source": [
    "#Podemos determinar o tipo de dado do array\n",
    "b = np.array([1, 2,3,4,5,6,7,8], dtype=complex)\n",
    "print(b)"
   ]
  },
  {
   "cell_type": "code",
   "execution_count": 5,
   "metadata": {},
   "outputs": [
    {
     "name": "stdout",
     "output_type": "stream",
     "text": [
      "[[1 2 3 4]\n",
      " [5 6 7 8]]\n"
     ]
    }
   ],
   "source": [
    "#Podemos definir o formato do array\n",
    "c = np.array([1, 2,3,4,5,6,7,8]).reshape(2, 4)\n",
    "print(c)"
   ]
  },
  {
   "cell_type": "code",
   "execution_count": 6,
   "metadata": {},
   "outputs": [
    {
     "name": "stdout",
     "output_type": "stream",
     "text": [
      "[1 2 3 4 5 6 7 8]\n"
     ]
    }
   ],
   "source": [
    "#Podemos transfomar uma matriz multidimensional em uma arry monodimensional\n",
    "d = c.flatten()\n",
    "print(d)"
   ]
  },
  {
   "cell_type": "code",
   "execution_count": 7,
   "metadata": {},
   "outputs": [
    {
     "name": "stdout",
     "output_type": "stream",
     "text": [
      "[[0. 0. 0.]\n",
      " [0. 0. 0.]\n",
      " [0. 0. 0.]]\n"
     ]
    }
   ],
   "source": [
    "#Podemos criar arrays vazios\n",
    "e= np.empty((3,3))\n",
    "print(e)\n",
    "#Cuidado com este comando, ele cria um espaço na memóeia, mas não limpa, o print vai mostra a sujeira"
   ]
  },
  {
   "cell_type": "code",
   "execution_count": 8,
   "metadata": {},
   "outputs": [
    {
     "name": "stdout",
     "output_type": "stream",
     "text": [
      "[[99. 99. 99. 99. 99. 99.]\n",
      " [99. 99. 99. 99. 99. 99.]\n",
      " [99. 99. 99. 99. 99. 99.]\n",
      " [99. 99. 99. 99. 99. 99.]]\n"
     ]
    }
   ],
   "source": [
    "#Podemos cria arrays com um valor específico\n",
    "f = np.full((4,6),99,dtype='float')\n",
    "print(f)"
   ]
  },
  {
   "cell_type": "markdown",
   "metadata": {},
   "source": [
    "# Criando arrays especiais"
   ]
  },
  {
   "cell_type": "code",
   "execution_count": 9,
   "metadata": {},
   "outputs": [
    {
     "name": "stdout",
     "output_type": "stream",
     "text": [
      "[[0. 0. 0. 0.]\n",
      " [0. 0. 0. 0.]\n",
      " [0. 0. 0. 0.]]\n"
     ]
    }
   ],
   "source": [
    "#Array de zeros\n",
    "g = np.zeros((3,4))\n",
    "print(g)"
   ]
  },
  {
   "cell_type": "code",
   "execution_count": 10,
   "metadata": {},
   "outputs": [
    {
     "name": "stdout",
     "output_type": "stream",
     "text": [
      "[[1. 1. 1. 1.]\n",
      " [1. 1. 1. 1.]\n",
      " [1. 1. 1. 1.]]\n"
     ]
    }
   ],
   "source": [
    "#Array de um\n",
    "h = np.ones((3,4))\n",
    "print(h)"
   ]
  },
  {
   "cell_type": "code",
   "execution_count": 11,
   "metadata": {},
   "outputs": [
    {
     "name": "stdout",
     "output_type": "stream",
     "text": [
      "[[0. 0. 0. 0.]\n",
      " [0. 0. 0. 0.]\n",
      " [0. 0. 0. 0.]]\n"
     ]
    }
   ],
   "source": [
    "#Array contendo uma progressão aritmética a partir de um intervalo - start, stop, step\n",
    "i = np.arange(0, 100, 2).reshape(10,5)\n",
    "print(g)"
   ]
  },
  {
   "cell_type": "code",
   "execution_count": 12,
   "metadata": {},
   "outputs": [
    {
     "name": "stdout",
     "output_type": "stream",
     "text": [
      "[[ 0  2  4  6  8]\n",
      " [10 12 14 16 18]\n",
      " [20 22 24 26 28]\n",
      " [30 32 34 36 38]\n",
      " [40 42 44 46 48]\n",
      " [50 52 54 56 58]\n",
      " [60 62 64 66 68]\n",
      " [70 72 74 76 78]\n",
      " [80 82 84 86 88]\n",
      " [90 92 94 96 98]]\n"
     ]
    }
   ],
   "source": [
    "#Array multidimensiona quadratico com 1 na diagonal\n",
    "h = np.eye(3)\n",
    "print(i)"
   ]
  },
  {
   "cell_type": "code",
   "execution_count": 13,
   "metadata": {},
   "outputs": [
    {
     "name": "stdout",
     "output_type": "stream",
     "text": [
      "[[1 0 0 0]\n",
      " [0 2 0 0]\n",
      " [0 0 3 0]\n",
      " [0 0 0 4]]\n"
     ]
    }
   ],
   "source": [
    "#Array com os valores passados como parâmetro, formam uma diagonal\n",
    "j = np.diag(np.array([1, 2, 3, 4]))\n",
    "print(j)"
   ]
  },
  {
   "cell_type": "code",
   "execution_count": 14,
   "metadata": {},
   "outputs": [
    {
     "name": "stdout",
     "output_type": "stream",
     "text": [
      "[ 0.          0.20408163  0.40816327  0.6122449   0.81632653  1.02040816\n",
      "  1.2244898   1.42857143  1.63265306  1.83673469  2.04081633  2.24489796\n",
      "  2.44897959  2.65306122  2.85714286  3.06122449  3.26530612  3.46938776\n",
      "  3.67346939  3.87755102  4.08163265  4.28571429  4.48979592  4.69387755\n",
      "  4.89795918  5.10204082  5.30612245  5.51020408  5.71428571  5.91836735\n",
      "  6.12244898  6.32653061  6.53061224  6.73469388  6.93877551  7.14285714\n",
      "  7.34693878  7.55102041  7.75510204  7.95918367  8.16326531  8.36734694\n",
      "  8.57142857  8.7755102   8.97959184  9.18367347  9.3877551   9.59183673\n",
      "  9.79591837 10.        ]\n",
      "[ 0.          0.71428571  1.42857143  2.14285714  2.85714286  3.57142857\n",
      "  4.28571429  5.          5.71428571  6.42857143  7.14285714  7.85714286\n",
      "  8.57142857  9.28571429 10.        ]\n"
     ]
    }
   ],
   "source": [
    "#Array com sequência de números igualmente espaçados dentro de um intervalo especificado.\n",
    "k = np.linspace(0, 10)\n",
    "l = np.linspace(0, 10, 15)\n",
    "print(k)\n",
    "print(l)"
   ]
  },
  {
   "cell_type": "code",
   "execution_count": 15,
   "metadata": {},
   "outputs": [
    {
     "name": "stdout",
     "output_type": "stream",
     "text": [
      "[1.00000000e+00 5.17947468e+00 2.68269580e+01 1.38949549e+02\n",
      " 7.19685673e+02 3.72759372e+03 1.93069773e+04 1.00000000e+05\n",
      " 5.17947468e+05 2.68269580e+06 1.38949549e+07 7.19685673e+07\n",
      " 3.72759372e+08 1.93069773e+09 1.00000000e+10]\n"
     ]
    }
   ],
   "source": [
    "#Array com ums sequência de números igualmente espaçados em escala logarítmica dentro de um intervalo especificado\n",
    "m = np.logspace(0, 10, 15)\n",
    "print(m)"
   ]
  },
  {
   "cell_type": "code",
   "execution_count": 16,
   "metadata": {},
   "outputs": [
    {
     "name": "stdout",
     "output_type": "stream",
     "text": [
      "[[0.2908839  0.28392545 0.72151851]\n",
      " [0.10982245 0.10151857 0.12997594]\n",
      " [0.78354499 0.79572385 0.90700677]]\n"
     ]
    }
   ],
   "source": [
    "#Podemos criar arrays com valores aleatórios entre 0 e 1\n",
    "n = np.random.rand(3,3)\n",
    "print(n)"
   ]
  },
  {
   "cell_type": "code",
   "execution_count": 17,
   "metadata": {},
   "outputs": [
    {
     "name": "stdout",
     "output_type": "stream",
     "text": [
      "[[-0.10079681 -0.6425453  -1.68490186]\n",
      " [-0.85703074  0.77437711  0.17689879]\n",
      " [-1.73679114 -0.08924937  1.89282614]]\n"
     ]
    }
   ],
   "source": [
    "#Podemos criar arrays com uma distribuição normal\n",
    "o = np.random.randn(3,3)\n",
    "print(o)"
   ]
  },
  {
   "cell_type": "code",
   "execution_count": 18,
   "metadata": {},
   "outputs": [
    {
     "name": "stdout",
     "output_type": "stream",
     "text": [
      "[[80 72 53]\n",
      " [50 79 81]\n",
      " [89 77 62]]\n"
     ]
    }
   ],
   "source": [
    "#Podemos criar arrays com numeros inteiros aleatórios\n",
    "p = np.random.randint(50, 100, (3, 3))\n",
    "print(p)"
   ]
  },
  {
   "cell_type": "markdown",
   "metadata": {},
   "source": [
    "# Atributos"
   ]
  },
  {
   "cell_type": "code",
   "execution_count": 19,
   "metadata": {},
   "outputs": [
    {
     "name": "stdout",
     "output_type": "stream",
     "text": [
      "(3, 3)\n",
      "2\n",
      "9\n",
      "int32\n",
      "4\n",
      "36\n",
      "[[80 50 89]\n",
      " [72 79 77]\n",
      " [53 81 62]]\n"
     ]
    }
   ],
   "source": [
    "print(p.shape)    #Tupla de inteiros indicando o tamanho de cada dimensão.\n",
    "print(p.ndim)     #Número de dimensões (eixos) do array.\n",
    "print(p.size)     #Número total de elementos no array.\n",
    "print(p.dtype)    #Tipo de dado dos elementos (ex: `int64`, `float64`, `bool`).\n",
    "print(p.itemsize) #Tamanho em bytes de cada elemento.\n",
    "print(p.nbytes)   #Tamanho total em bytes consumido pelo array.\n",
    "print(p.T)        #A transposta do array (para arrays 2D+)."
   ]
  },
  {
   "cell_type": "markdown",
   "metadata": {},
   "source": [
    "# Funções gerais"
   ]
  },
  {
   "cell_type": "code",
   "execution_count": 20,
   "metadata": {},
   "outputs": [
    {
     "name": "stdout",
     "output_type": "stream",
     "text": [
      "[[1 2 3 4]\n",
      " [5 6 7 8]]\n",
      "[1 1 1 2 2 2 3 3 3 4 4 4 5 5 5 6 6 6 7 7 7 8 8 8]\n",
      "[[1 2 3 4 1 2 3 4 1 2 3 4]\n",
      " [5 6 7 8 5 6 7 8 5 6 7 8]]\n"
     ]
    }
   ],
   "source": [
    "# Repetindo os elementos de um array\n",
    "print(c)\n",
    "print(np.repeat(c, 3))\n",
    "print(np.tile(c, 3))"
   ]
  },
  {
   "cell_type": "markdown",
   "metadata": {},
   "source": [
    "### Indexação em Arrays NumPy"
   ]
  },
  {
   "cell_type": "markdown",
   "metadata": {},
   "source": [
    "Todas as formas de acessar um elemento de uma lista funciona com o ndarray\n",
    "mas podemos acessar de algumas outras forma"
   ]
  },
  {
   "cell_type": "code",
   "execution_count": 21,
   "metadata": {},
   "outputs": [
    {
     "name": "stdout",
     "output_type": "stream",
     "text": [
      "[1 2 3 4 5 6 7 8]\n",
      "[2 3 6 7]\n"
     ]
    }
   ],
   "source": [
    "#Acessando indices específicos\n",
    "q = [1, 2, 5, 6]\n",
    "print(a)\n",
    "print(a[q])"
   ]
  },
  {
   "cell_type": "code",
   "execution_count": 22,
   "metadata": {},
   "outputs": [
    {
     "name": "stdout",
     "output_type": "stream",
     "text": [
      "[1 2 3 4 5 6 7 8]\n",
      "[False  True False  True False  True False  True]\n",
      "[2 4 6 8]\n"
     ]
    }
   ],
   "source": [
    "#acessando através de mascaras\n",
    "r = (a % 2 == 0)\n",
    "print(a)\n",
    "print(r)\n",
    "print(a[r])"
   ]
  },
  {
   "cell_type": "markdown",
   "metadata": {},
   "source": [
    "# Operações Matemáticas com arrays"
   ]
  },
  {
   "cell_type": "code",
   "execution_count": 23,
   "metadata": {},
   "outputs": [
    {
     "name": "stdout",
     "output_type": "stream",
     "text": [
      "1\n"
     ]
    }
   ],
   "source": [
    "#Menor elemento no array\n",
    "print(c.min())"
   ]
  },
  {
   "cell_type": "code",
   "execution_count": 24,
   "metadata": {},
   "outputs": [
    {
     "name": "stdout",
     "output_type": "stream",
     "text": [
      "8\n"
     ]
    }
   ],
   "source": [
    "#Maior elemento no array\n",
    "print(c.max())"
   ]
  },
  {
   "cell_type": "code",
   "execution_count": 25,
   "metadata": {},
   "outputs": [
    {
     "name": "stdout",
     "output_type": "stream",
     "text": [
      "4.5\n"
     ]
    }
   ],
   "source": [
    "#Média\n",
    "print(np.mean(c))"
   ]
  },
  {
   "cell_type": "code",
   "execution_count": 26,
   "metadata": {},
   "outputs": [
    {
     "data": {
      "text/plain": [
       "4.5"
      ]
     },
     "execution_count": 26,
     "metadata": {},
     "output_type": "execute_result"
    }
   ],
   "source": [
    "#Mediama\n",
    "np.median(c)"
   ]
  },
  {
   "cell_type": "code",
   "execution_count": 27,
   "metadata": {},
   "outputs": [
    {
     "name": "stdout",
     "output_type": "stream",
     "text": [
      "2.29128784747792\n"
     ]
    }
   ],
   "source": [
    "#Desvio padrão\n",
    "print(np.std(c))"
   ]
  },
  {
   "cell_type": "code",
   "execution_count": 28,
   "metadata": {},
   "outputs": [
    {
     "name": "stdout",
     "output_type": "stream",
     "text": [
      "5.25\n"
     ]
    }
   ],
   "source": [
    "#Variância\n",
    "print(np.var(c))"
   ]
  },
  {
   "cell_type": "code",
   "execution_count": 29,
   "metadata": {},
   "outputs": [
    {
     "name": "stdout",
     "output_type": "stream",
     "text": [
      "36\n"
     ]
    }
   ],
   "source": [
    "#Soma dos elementos\n",
    "print(np.sum(c))"
   ]
  },
  {
   "cell_type": "code",
   "execution_count": 30,
   "metadata": {},
   "outputs": [
    {
     "data": {
      "text/plain": [
       "array([ 1,  3,  6, 10, 15, 21, 28, 36])"
      ]
     },
     "execution_count": 30,
     "metadata": {},
     "output_type": "execute_result"
    }
   ],
   "source": [
    "#Soma acumulativa\n",
    "c.cumsum()"
   ]
  },
  {
   "cell_type": "code",
   "execution_count": 31,
   "metadata": {},
   "outputs": [
    {
     "name": "stdout",
     "output_type": "stream",
     "text": [
      "40320\n"
     ]
    }
   ],
   "source": [
    "#Produto dos elementos\n",
    "print(np.prod(c))"
   ]
  },
  {
   "cell_type": "code",
   "execution_count": 32,
   "metadata": {},
   "outputs": [
    {
     "name": "stdout",
     "output_type": "stream",
     "text": [
      "[    1     2     6    24   120   720  5040 40320]\n"
     ]
    }
   ],
   "source": [
    "#Produto acumulativo\n",
    "print (c.cumprod())"
   ]
  },
  {
   "cell_type": "code",
   "execution_count": 33,
   "metadata": {},
   "outputs": [
    {
     "name": "stdout",
     "output_type": "stream",
     "text": [
      "[[1 2 3]\n",
      " [4 5 6]\n",
      " [7 8 9]]\n",
      "[[10 11 12]\n",
      " [13 14 15]\n",
      " [16 17 18]]\n"
     ]
    }
   ],
   "source": [
    "s = np.array([1,2,3,4,5,6,7,8,9]).reshape(3,3)\n",
    "t = np.array([10, 11, 12,13,14,15,16,17,18]).reshape(3,3)\n",
    "print(s)\n",
    "print(t)"
   ]
  },
  {
   "cell_type": "code",
   "execution_count": 34,
   "metadata": {},
   "outputs": [
    {
     "name": "stdout",
     "output_type": "stream",
     "text": [
      "[[11 13 15]\n",
      " [17 19 21]\n",
      " [23 25 27]]\n"
     ]
    }
   ],
   "source": [
    "# Soma dos arrays\n",
    "u = np.add(s, t)  \n",
    "print(u)"
   ]
  },
  {
   "cell_type": "code",
   "execution_count": 35,
   "metadata": {},
   "outputs": [
    {
     "name": "stdout",
     "output_type": "stream",
     "text": [
      "[[ 2.56543  3.56543  4.56543]\n",
      " [ 5.56543  6.56543  7.56543]\n",
      " [ 8.56543  9.56543 10.56543]]\n"
     ]
    }
   ],
   "source": [
    "#Soma de escalar\n",
    "v = s + 1.56543\n",
    "print(v)"
   ]
  },
  {
   "cell_type": "code",
   "execution_count": 36,
   "metadata": {},
   "outputs": [
    {
     "name": "stdout",
     "output_type": "stream",
     "text": [
      "[[ 1.56543  3.13086  4.69629]\n",
      " [ 6.26172  7.82715  9.39258]\n",
      " [10.95801 12.52344 14.08887]]\n"
     ]
    }
   ],
   "source": [
    "#Multiplicação de escalar\n",
    "w = s *  1.56543\n",
    "print(w)"
   ]
  },
  {
   "cell_type": "code",
   "execution_count": 37,
   "metadata": {},
   "outputs": [
    {
     "name": "stdout",
     "output_type": "stream",
     "text": [
      "[[ 84  90  96]\n",
      " [201 216 231]\n",
      " [318 342 366]]\n"
     ]
    }
   ],
   "source": [
    "# Multiplicar as duas matrizes\n",
    "x = s @ t\n",
    "print(x)"
   ]
  },
  {
   "cell_type": "code",
   "execution_count": 38,
   "metadata": {},
   "outputs": [
    {
     "name": "stdout",
     "output_type": "stream",
     "text": [
      "[[11 13 15]\n",
      " [17 19 21]\n",
      " [23 25 27]]\n"
     ]
    }
   ],
   "source": [
    "#Soma de matrizes\n",
    "y = s + t\n",
    "print(y)"
   ]
  },
  {
   "cell_type": "code",
   "execution_count": 39,
   "metadata": {},
   "outputs": [
    {
     "name": "stdout",
     "output_type": "stream",
     "text": [
      "[[ 84  90  96]\n",
      " [201 216 231]\n",
      " [318 342 366]]\n",
      "[[ 10  22  36]\n",
      " [ 52  70  90]\n",
      " [112 136 162]]\n"
     ]
    }
   ],
   "source": [
    "#Multiplicação de matrizes\n",
    "z = s @ t\n",
    "print(z)\n",
    "aa = s * t\n",
    "print(aa)"
   ]
  },
  {
   "cell_type": "code",
   "execution_count": 45,
   "metadata": {},
   "outputs": [
    {
     "name": "stdout",
     "output_type": "stream",
     "text": [
      "[[-1.88964715e+13  3.77929431e+13 -1.88964715e+13]\n",
      " [ 3.77929431e+13 -7.55858862e+13  3.77929431e+13]\n",
      " [-1.88964715e+13  3.77929431e+13 -1.88964715e+13]]\n"
     ]
    }
   ],
   "source": [
    "#Matriz inversa\n",
    "ab = inv(z)\n",
    "print(ab)"
   ]
  },
  {
   "cell_type": "code",
   "execution_count": 41,
   "metadata": {},
   "outputs": [
    {
     "name": "stdout",
     "output_type": "stream",
     "text": [
      "-216.00000000000526\n"
     ]
    }
   ],
   "source": [
    "print(det(aa))"
   ]
  },
  {
   "cell_type": "code",
   "execution_count": 42,
   "metadata": {},
   "outputs": [
    {
     "name": "stdout",
     "output_type": "stream",
     "text": [
      "[[ 1.565  3.131  4.696]\n",
      " [ 6.262  7.827  9.393]\n",
      " [10.958 12.523 14.089]]\n"
     ]
    }
   ],
   "source": [
    "#Usando o método around\n",
    "ac = np.around(w, decimals=3)\n",
    "print(ac)"
   ]
  },
  {
   "cell_type": "code",
   "execution_count": 52,
   "metadata": {},
   "outputs": [
    {
     "name": "stdout",
     "output_type": "stream",
     "text": [
      "[[1.         1.41421356 1.73205081 2.        ]\n",
      " [2.23606798 2.44948974 2.64575131 2.82842712]]\n"
     ]
    }
   ],
   "source": [
    "#Extraindo a raiz quadrada de cada elemento\n",
    "ad = np.sqrt(c)\n",
    "print(ad)"
   ]
  },
  {
   "cell_type": "code",
   "execution_count": 53,
   "metadata": {},
   "outputs": [
    {
     "name": "stdout",
     "output_type": "stream",
     "text": [
      "[[2.71828183e+00 7.38905610e+00 2.00855369e+01 5.45981500e+01]\n",
      " [1.48413159e+02 4.03428793e+02 1.09663316e+03 2.98095799e+03]]\n"
     ]
    }
   ],
   "source": [
    "#calculando a exponencial \n",
    "ae = np.exp(c)\n",
    "print(ae)"
   ]
  },
  {
   "cell_type": "code",
   "execution_count": 54,
   "metadata": {},
   "outputs": [
    {
     "name": "stdout",
     "output_type": "stream",
     "text": [
      "[[0.         0.69314718 1.09861229 1.38629436]\n",
      " [1.60943791 1.79175947 1.94591015 2.07944154]]\n"
     ]
    }
   ],
   "source": [
    "#calculando o logarítimo decimal\n",
    "af = np.log(c)\n",
    "print(af)"
   ]
  },
  {
   "cell_type": "code",
   "execution_count": 60,
   "metadata": {},
   "outputs": [
    {
     "name": "stdout",
     "output_type": "stream",
     "text": [
      "[[0.000e+000 0.000e+000 0.000e+000]\n",
      " [0.000e+000 0.000e+000 9.624e-321]\n",
      " [0.000e+000 0.000e+000 0.000e+000]]\n",
      "[[1. 1. 1.]\n",
      " [1. 1. 1.]\n",
      " [1. 1. 1.]]\n",
      "[[0.000e+000 0.000e+000 0.000e+000]\n",
      " [0.000e+000 0.000e+000 9.624e-321]\n",
      " [0.000e+000 0.000e+000 0.000e+000]]\n",
      "[[0.000e+000 0.000e+000 0.000e+000]\n",
      " [0.000e+000 0.000e+000 9.624e-321]\n",
      " [0.000e+000 0.000e+000 0.000e+000]]\n",
      "[[1.57079633 1.57079633 1.57079633]\n",
      " [1.57079633 1.57079633 1.57079633]\n",
      " [1.57079633 1.57079633 1.57079633]]\n",
      "[[0.000e+000 0.000e+000 0.000e+000]\n",
      " [0.000e+000 0.000e+000 9.624e-321]\n",
      " [0.000e+000 0.000e+000 0.000e+000]]\n"
     ]
    }
   ],
   "source": [
    "#Calculando as funções trigonométricas\n",
    "ag = np.sin(e)\n",
    "ah = np.cos(e)\n",
    "ai = np.tan(e)\n",
    "aj = np.arcsin(e)\n",
    "ak = np.arccos(e)\n",
    "al = np.arctan(e)\n",
    "print(ag)\n",
    "print(ah)\n",
    "print(ai)\n",
    "print(aj)\n",
    "print(ak)\n",
    "print(al)"
   ]
  },
  {
   "cell_type": "code",
   "execution_count": 62,
   "metadata": {},
   "outputs": [
    {
     "name": "stdout",
     "output_type": "stream",
     "text": [
      "[[1.88964715e+13 3.77929431e+13 1.88964715e+13]\n",
      " [3.77929431e+13 7.55858862e+13 3.77929431e+13]\n",
      " [1.88964715e+13 3.77929431e+13 1.88964715e+13]]\n"
     ]
    }
   ],
   "source": [
    "#Trazendo os valorfes absolutos\n",
    "am = np.abs(ab)\n",
    "print(am)"
   ]
  },
  {
   "cell_type": "code",
   "execution_count": 71,
   "metadata": {},
   "outputs": [
    {
     "name": "stdout",
     "output_type": "stream",
     "text": [
      "[[0.         0.69314718 1.09861229 1.38629436]\n",
      " [1.60943791 1.79175947 1.94591015 2.07944154]]\n",
      "[[0. 1. 2. 2.]\n",
      " [2. 2. 2. 3.]]\n",
      "[[0. 0. 1. 1.]\n",
      " [1. 1. 1. 2.]]\n"
     ]
    }
   ],
   "source": [
    "#Arredondando paracima ou para baixo\n",
    "an = np.ceil(af)\n",
    "ao = np.floor(af)\n",
    "print(af)\n",
    "print(an)\n",
    "print(ao)"
   ]
  },
  {
   "cell_type": "code",
   "execution_count": 73,
   "metadata": {},
   "outputs": [
    {
     "name": "stdout",
     "output_type": "stream",
     "text": [
      "[[84 96 88]\n",
      " [69 81 59]\n",
      " [87 88 76]]\n",
      "[[64 90 66]\n",
      " [97 68 78]\n",
      " [92 87 53]]\n",
      "[[84 96 88]\n",
      " [97 81 78]\n",
      " [92 88 76]]\n",
      "[[64 90 66]\n",
      " [69 68 59]\n",
      " [87 87 53]]\n"
     ]
    }
   ],
   "source": [
    "#Compara dois arrays  elemento a elemento e retorna um novo array contendo o maior/menor\n",
    "#valor de cada par de elementos correspondentes.\n",
    "ap = np.random.randint(50, 100, (3, 3))\n",
    "aq = np.random.randint(50, 100, (3, 3))\n",
    "ar = np.maximum(ap,aq)\n",
    "at = np.minimum(ap,aq)\n",
    "print(ap)\n",
    "print(aq)\n",
    "print(ar)\n",
    "print(at)"
   ]
  },
  {
   "cell_type": "markdown",
   "metadata": {},
   "source": [
    "# Comparando array"
   ]
  },
  {
   "cell_type": "code",
   "execution_count": 74,
   "metadata": {},
   "outputs": [],
   "source": [
    "au = np.array([1,2,3,4,5,6,7,8]).reshape(2,4)\n",
    "av = np.array([0,2,5,3,3,5,7,9]).reshape(2,4)"
   ]
  },
  {
   "cell_type": "code",
   "execution_count": 76,
   "metadata": {},
   "outputs": [
    {
     "name": "stdout",
     "output_type": "stream",
     "text": [
      "[[False  True False False]\n",
      " [False False  True False]]\n"
     ]
    }
   ],
   "source": [
    "# Comparação item a item\n",
    "aw = au == av\n",
    "print(aw)"
   ]
  },
  {
   "cell_type": "code",
   "execution_count": 77,
   "metadata": {},
   "outputs": [
    {
     "name": "stdout",
     "output_type": "stream",
     "text": [
      "False\n",
      "True\n"
     ]
    }
   ],
   "source": [
    "#Comparação global\n",
    "print(np.array_equal(au, av))\n",
    "print(np.array_equal(a, b))"
   ]
  },
  {
   "cell_type": "code",
   "execution_count": 78,
   "metadata": {},
   "outputs": [
    {
     "name": "stdout",
     "output_type": "stream",
     "text": [
      "[[1 2 3 4]\n",
      " [5 6 7 8]]\n"
     ]
    }
   ],
   "source": [
    "# Criando cópia do array\n",
    "aw = np.copy(c)\n",
    "print(aw)"
   ]
  },
  {
   "cell_type": "code",
   "execution_count": null,
   "metadata": {},
   "outputs": [],
   "source": []
  }
 ],
 "metadata": {
  "kernelspec": {
   "display_name": "Python 3 (ipykernel)",
   "language": "python",
   "name": "python3"
  },
  "language_info": {
   "codemirror_mode": {
    "name": "ipython",
    "version": 3
   },
   "file_extension": ".py",
   "mimetype": "text/x-python",
   "name": "python",
   "nbconvert_exporter": "python",
   "pygments_lexer": "ipython3",
   "version": "3.11.7"
  }
 },
 "nbformat": 4,
 "nbformat_minor": 4
}
