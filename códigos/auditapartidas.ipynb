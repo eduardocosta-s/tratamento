{
 "cells": [
  {
   "cell_type": "code",
   "execution_count": 1,
   "id": "f8b506f0-01a7-4a3c-86f8-671ff534daed",
   "metadata": {},
   "outputs": [],
   "source": [
    "import pandas as pd\n",
    "import math"
   ]
  },
  {
   "cell_type": "code",
   "execution_count": 2,
   "id": "ee033488-73ce-4e89-82c9-f620b5835671",
   "metadata": {},
   "outputs": [],
   "source": [
    "partidas = pd.read_excel(\"https://github.com/lfcalabria/tratamento/raw/refs/heads/master/datasets/partidas.xlsx\")"
   ]
  },
  {
   "cell_type": "code",
   "execution_count": 3,
   "id": "45e05bb4-74af-4d45-ac77-6188d1dd3671",
   "metadata": {},
   "outputs": [
    {
     "name": "stdout",
     "output_type": "stream",
     "text": [
      "<class 'pandas.core.frame.DataFrame'>\n",
      "RangeIndex: 6834 entries, 0 to 6833\n",
      "Data columns (total 21 columns):\n",
      " #   Column           Non-Null Count  Dtype  \n",
      "---  ------           --------------  -----  \n",
      " 0   DATA             6834 non-null   object \n",
      " 1   JOGADOR 1        6834 non-null   object \n",
      " 2   JOGADOR 2        6834 non-null   object \n",
      " 3   JOGADOR 3        6834 non-null   object \n",
      " 4   JOGADOR 4        6834 non-null   object \n",
      " 5   PLACAR DUPLA 1   6834 non-null   int64  \n",
      " 6   PLACAR DUPLA 2   6834 non-null   int64  \n",
      " 7   DUPLA 1          6834 non-null   object \n",
      " 8   DUPLA 2          6834 non-null   object \n",
      " 9   DUPLA VENCEDORA  6834 non-null   object \n",
      " 10  DUPLA PERDEDORA  6829 non-null   object \n",
      " 11  BUCHUDA DE RÉ?   6810 non-null   object \n",
      " 12  PONTUOU          6834 non-null   int64  \n",
      " 13  PAGADOR1         1220 non-null   object \n",
      " 14  DEB PAG1         6784 non-null   float64\n",
      " 15  VALOR PAGO 1     2036 non-null   float64\n",
      " 16  COMP PG1         1101 non-null   object \n",
      " 17  PAGADOR2         1220 non-null   object \n",
      " 18  DEB PAG2         6784 non-null   float64\n",
      " 19  VALOR PAGO 2     2031 non-null   float64\n",
      " 20  COMP PG2         1103 non-null   object \n",
      "dtypes: float64(4), int64(3), object(14)\n",
      "memory usage: 1.1+ MB\n"
     ]
    }
   ],
   "source": [
    "partidas.info()"
   ]
  },
  {
   "cell_type": "code",
   "execution_count": 4,
   "id": "a11d765b-be4f-4ce2-b983-b133db252e4b",
   "metadata": {},
   "outputs": [],
   "source": [
    "partidas.columns = ['DATA', 'JOGADOR1', 'JOGADOR2', 'JOGADOR3', 'JOGADOR4',\n",
    "       'PLACAR1', 'PLACAR2', 'DUPLA1', 'DUPLA2',\n",
    "       'DUPLAVENCEDORA', 'DUPLAPERDEDORA', 'RÉ', 'PONTUOU',\n",
    "       'PAGADOR1', 'DEBPAG1', 'VALORPAGO1', 'COMPPG1', 'PAGADOR2',\n",
    "       'DEBPAG2', 'VALORPAGO2', 'COMPPG2']"
   ]
  },
  {
   "cell_type": "code",
   "execution_count": 5,
   "id": "9bfb2cf3-1ad3-4783-8854-6be808bcf09f",
   "metadata": {},
   "outputs": [],
   "source": [
    "errosplacarigual = partidas.query('PLACAR1 == PLACAR2')"
   ]
  },
  {
   "cell_type": "code",
   "execution_count": 6,
   "id": "20576c29-ef9f-480a-86a0-d22ba9cfe7c8",
   "metadata": {},
   "outputs": [],
   "source": [
    "errosplacarnegativo = partidas.query('PLACAR1 < 0 or PLACAR2 < 0')"
   ]
  },
  {
   "cell_type": "code",
   "execution_count": 7,
   "id": "3642b1a5-d13d-48ca-8e15-eb596d001d23",
   "metadata": {},
   "outputs": [],
   "source": [
    "errosvalorplacar = partidas.query('(PLACAR1 < 6 and PLACAR2 < 6) or (PLACAR1 > 6 and PLACAR2 > 6)')"
   ]
  },
  {
   "cell_type": "code",
   "execution_count": 10,
   "id": "cc07d316-1196-4168-a7a2-c487183cf857",
   "metadata": {},
   "outputs": [
    {
     "name": "stdout",
     "output_type": "stream",
     "text": [
      "17\n",
      "3\n",
      "230\n"
     ]
    }
   ],
   "source": [
    "errosdupla = []\n",
    "errosponto = []\n",
    "errospagto = []\n",
    "for index,linha in partidas.iterrows():\n",
    "    if linha['PLACAR1'] > linha['PLACAR2']:\n",
    "        venc1 = linha['JOGADOR1'] + ' & ' + linha['JOGADOR2']\n",
    "        venc2 = linha['JOGADOR2'] + ' & ' + linha['JOGADOR1']\n",
    "        perd1 = linha['JOGADOR3'] + ' & ' + linha['JOGADOR4']\n",
    "        perd2 = linha['JOGADOR4'] + ' & ' + linha['JOGADOR3']\n",
    "    else:\n",
    "        venc1 = linha['JOGADOR3'] + ' & ' + linha['JOGADOR4']\n",
    "        venc2 = linha['JOGADOR4'] + ' & ' + linha['JOGADOR3']\n",
    "        perd1 = linha['JOGADOR1'] + ' & ' + linha['JOGADOR2']\n",
    "        perd2 = linha['JOGADOR2'] + ' & ' + linha['JOGADOR1']\n",
    "    if linha['DUPLAVENCEDORA'] not in [venc1,venc2]:\n",
    "        errosdupla.append(linha)\n",
    "    if linha['DUPLAPERDEDORA'] not in [perd1,perd2]:\n",
    "        errosdupla.append(linha)\n",
    "    pontos = abs(linha['PLACAR1'] - linha['PLACAR2'])\n",
    "    if linha['PLACAR1'] == 0 or linha['PLACAR2'] == 0:\n",
    "        pontos += 1\n",
    "        perdedores = perd1.split(' & ')\n",
    "        if 'JOGADOR NÃO MEMBRO' in perdedores:\n",
    "            if linha['DEBPAG1'] != 4 or linha['VALORPAGO1'] != 4 or linha['COMPPG1'] == None:\n",
    "                errospagto.append(linha)\n",
    "            if not (linha['DEBPAG2'] == None or linha['VALORPAGO2'] == None or linha['COMPPG2'] == None):\n",
    "                errospagto.append(linha)\n",
    "        else:\n",
    "             if linha['DEBPAG1'] != 2 or linha['VALORPAGO1'] != 2 or linha['COMPPG1'] == None or linha['DEBPAG2'] != 2 or linha['VALORPAGO2'] != 2 or linha['COMPPG2'] == None:\n",
    "                errospagto.append(linha) \n",
    "    if linha['RÉ'] == 'SIM':\n",
    "        pontos += 7\n",
    "        perdedores = perd1.split(' & ')\n",
    "        if 'JOGADOR NÃO MEMBRO' in perdedores:\n",
    "            if linha['DEBPAG1'] != 6 or linha['VALORPAGO1'] != 6 or linha['COMPPG1'] == None:\n",
    "                errospagto.append(linha)\n",
    "            if not (linha['DEBPAG2'] == None or linha['VALORPAGO2'] == None or linha['COMPPG2'] == None):\n",
    "                errospagto.append(linha)\n",
    "        else:\n",
    "             if linha['DEBPAG1'] != 3 or linha['VALORPAGO1'] != 3 or linha['COMPPG1'] == None or linha['DEBPAG2'] != 3 or linha['VALORPAGO2'] != 3 or linha['COMPPG2'] == None:\n",
    "                errospagto.append(linha)\n",
    "    if linha['PONTUOU'] != pontos:\n",
    "        errosponto.append(linha)\n",
    "\n",
    "        \n",
    "errosdupla = tuple(errosdupla)\n",
    "print(len(errosdupla))\n",
    "print(len(errosponto))\n",
    "print(len(errospagto))"
   ]
  },
  {
   "cell_type": "code",
   "execution_count": null,
   "id": "172729a7-268f-48ca-b111-a1fa52c6de06",
   "metadata": {},
   "outputs": [],
   "source": []
  }
 ],
 "metadata": {
  "kernelspec": {
   "display_name": "Python 3 (ipykernel)",
   "language": "python",
   "name": "python3"
  },
  "language_info": {
   "codemirror_mode": {
    "name": "ipython",
    "version": 3
   },
   "file_extension": ".py",
   "mimetype": "text/x-python",
   "name": "python",
   "nbconvert_exporter": "python",
   "pygments_lexer": "ipython3",
   "version": "3.11.7"
  }
 },
 "nbformat": 4,
 "nbformat_minor": 5
}
