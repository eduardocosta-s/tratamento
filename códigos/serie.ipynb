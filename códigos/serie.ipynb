{
 "cells": [
  {
   "cell_type": "code",
   "execution_count": 1,
   "id": "86866ef2-9c89-4d1f-9190-86f13362696a",
   "metadata": {},
   "outputs": [],
   "source": [
    "import pandas as pd"
   ]
  },
  {
   "cell_type": "code",
   "execution_count": 2,
   "id": "46df1b5e-7219-4947-a7a7-d124e53b8216",
   "metadata": {},
   "outputs": [],
   "source": [
    "serie = pd.read_csv(r\"D:\\TreinaRecife\\Python do Zero até a Análise de Dados\\tratamento\\datasets\\serie.csv\", sep=';')"
   ]
  },
  {
   "cell_type": "code",
   "execution_count": 3,
   "id": "fee6ae11-4ccb-425a-9f80-792f9a7490b7",
   "metadata": {},
   "outputs": [],
   "source": [
    "serie['date'] = pd.to_datetime(serie['date'])"
   ]
  },
  {
   "cell_type": "code",
   "execution_count": 4,
   "id": "635a8ea0-ee3c-4ceb-98bf-7a0bfc400d2c",
   "metadata": {},
   "outputs": [],
   "source": [
    "serie = serie.set_index('date')"
   ]
  },
  {
   "cell_type": "code",
   "execution_count": 5,
   "id": "50017d28-ad85-4089-9f18-f029b894ec5b",
   "metadata": {},
   "outputs": [],
   "source": [
    "serie = serie['meantemp']"
   ]
  },
  {
   "cell_type": "code",
   "execution_count": 6,
   "id": "48f71cc5-f7ae-47f6-b80b-f795497db67f",
   "metadata": {},
   "outputs": [],
   "source": [
    "serie = serie.resample('D').first()\n",
    "serie1 = serie.copy()"
   ]
  },
  {
   "cell_type": "code",
   "execution_count": 7,
   "id": "c8efacfa-16c6-42c7-ae99-efa77a63c70f",
   "metadata": {},
   "outputs": [
    {
     "data": {
      "text/plain": [
       "pandas.core.series.Series"
      ]
     },
     "execution_count": 7,
     "metadata": {},
     "output_type": "execute_result"
    }
   ],
   "source": [
    "type(serie)"
   ]
  },
  {
   "cell_type": "code",
   "execution_count": 8,
   "id": "709087c8-a289-4418-8847-cbd2cfe4abf0",
   "metadata": {},
   "outputs": [
    {
     "name": "stdout",
     "output_type": "stream",
     "text": [
      "DatetimeIndex(['2013-01-01', '2013-01-02', '2013-01-03', '2013-01-04',\n",
      "               '2013-01-05', '2013-01-06', '2013-01-07', '2013-01-08',\n",
      "               '2013-01-09', '2013-01-10',\n",
      "               ...\n",
      "               '2016-12-27', '2016-12-28', '2016-12-29', '2016-12-30',\n",
      "               '2016-12-31', '2017-01-01', '2017-01-02', '2017-01-03',\n",
      "               '2017-01-04', '2017-01-05'],\n",
      "              dtype='datetime64[ns]', name='date', length=1466, freq='D')\n",
      "[10.          7.4         7.16666667 ...         nan         nan\n",
      " 10.        ]\n",
      "float64\n",
      "meantemp\n",
      "(1466,)\n",
      "1466\n",
      "False\n",
      "1\n",
      "True\n"
     ]
    }
   ],
   "source": [
    "print(serie.index)   #\tRetorna o objeto de índice (rótulos) da Series\n",
    "print(serie.values)  #\tRetorna os dados da Series como um array NumPy ndarray.\n",
    "print(serie.dtype)   #\tRetorna o tipo de dado dos elementos contidos na Series.\n",
    "print(serie.name)    #\tRetorna o nome da Series.\n",
    "print(serie.shape)   #\tRetorna uma tupla representando as dimensões da Series.\n",
    "print(serie.size)    #\tRetorna o número total de elementos na Series.\n",
    "print(serie.empty)   #\tRetorna True se a Series estiver vazia (não contiver nenhum \telemento), e False Caso contrário.\n",
    "print(serie.ndim)    #\tRetorna o número de dimensões da Series. Para uma Series, \teste valor é sempre 1.\n",
    "print(serie.hasnans) #\tRetornaTrue se a Series contiver quaisquer valores NaN (Not \ta Number, ou valores ausentes), e False caso contrário."
   ]
  },
  {
   "cell_type": "code",
   "execution_count": 9,
   "id": "47dc0c91-70ef-4b5b-ab50-3e2f0bb3164f",
   "metadata": {},
   "outputs": [
    {
     "data": {
      "text/plain": [
       "date\n",
       "2013-01-01    10.000000\n",
       "2013-01-02     7.400000\n",
       "2013-01-03     7.166667\n",
       "2013-01-04     8.666667\n",
       "2013-01-05     6.000000\n",
       "Freq: D, Name: meantemp, dtype: float64"
      ]
     },
     "execution_count": 9,
     "metadata": {},
     "output_type": "execute_result"
    }
   ],
   "source": [
    "serie.head()"
   ]
  },
  {
   "cell_type": "code",
   "execution_count": 10,
   "id": "fc8671fd-fd8a-4807-a728-1f7d27e61c13",
   "metadata": {},
   "outputs": [
    {
     "data": {
      "text/plain": [
       "date\n",
       "2017-01-01     NaN\n",
       "2017-01-02     NaN\n",
       "2017-01-03     NaN\n",
       "2017-01-04     NaN\n",
       "2017-01-05    10.0\n",
       "Freq: D, Name: meantemp, dtype: float64"
      ]
     },
     "execution_count": 10,
     "metadata": {},
     "output_type": "execute_result"
    }
   ],
   "source": [
    "serie.tail()"
   ]
  },
  {
   "cell_type": "code",
   "execution_count": 11,
   "id": "5f7d0be2-5ee2-4f11-b57c-b0480e4af1fe",
   "metadata": {},
   "outputs": [
    {
     "data": {
      "text/plain": [
       "count    1462.000000\n",
       "mean       25.495521\n",
       "std         7.348103\n",
       "min         6.000000\n",
       "25%        18.857143\n",
       "50%        27.714286\n",
       "75%        31.305804\n",
       "max        38.714286\n",
       "Name: meantemp, dtype: float64"
      ]
     },
     "execution_count": 11,
     "metadata": {},
     "output_type": "execute_result"
    }
   ],
   "source": [
    "serie.describe()"
   ]
  },
  {
   "cell_type": "code",
   "execution_count": 12,
   "id": "3cafb624-1be0-44a7-9f78-53d6ca8be6cb",
   "metadata": {},
   "outputs": [
    {
     "data": {
      "text/plain": [
       "array([10.        ,  7.4       ,  7.16666667,  8.66666667,  6.        ,\n",
       "        7.        ,  8.85714286, 14.        , 11.        , 15.71428571,\n",
       "       15.83333333, 12.83333333, 14.71428571, 13.83333333, 16.5       ,\n",
       "       12.5       , 11.28571429, 11.2       ,  9.5       , 12.25      ,\n",
       "       12.66666667, 12.85714286, 14.83333333, 14.125     , 16.2       ,\n",
       "       16.        , 16.28571429, 18.        , 17.42857143, 16.625     ,\n",
       "       16.66666667, 15.6       , 15.42857143, 15.25      , 15.875     ,\n",
       "       15.33333333, 17.33333333, 19.16666667, 14.42857143, 13.66666667,\n",
       "       15.85714286, 17.71428571, 20.        , 20.5       , 16.85714286,\n",
       "       16.875     , 17.85714286, 20.8       , 19.42857143, 19.        ,\n",
       "       19.33333333, 17.6       , 20.875     , 20.85714286, 23.42857143,\n",
       "       24.16666667, 25.42857143, 23.14285714, 24.        , 23.5       ,\n",
       "       21.5       , 22.33333333, 20.33333333, 22.66666667, 22.5       ,\n",
       "       29.16666667, 23.83333333, 25.25      , 27.375     , 27.        ,\n",
       "       24.14285714, 21.        , 22.42857143, 21.25      , 23.2       ,\n",
       "       25.375     , 25.16666667, 26.2       , 24.6       , 25.6       ,\n",
       "       25.85714286, 29.14285714, 28.71428571, 30.16666667, 30.        ,\n",
       "       28.85714286, 30.2       , 28.25      , 32.125     , 29.2       ,\n",
       "       30.28571429, 28.28571429, 30.625     , 27.66666667, 28.625     ,\n",
       "       31.14285714, 29.875     , 30.57142857, 31.85714286, 29.83333333,\n",
       "       28.57142857, 32.85714286, 32.625     , 32.75      , 32.875     ,\n",
       "       34.5       , 34.28571429, 34.        , 30.75      , 29.85714286,\n",
       "       31.71428571, 32.28571429, 33.        , 32.83333333, 31.4       ,\n",
       "       35.33333333, 36.4       , 36.        , 36.75      , 37.5       ,\n",
       "       38.42857143, 38.71428571, 37.8       , 35.85714286, 34.14285714,\n",
       "       32.2       , 33.625     , 32.        , 32.4       , 35.6       ,\n",
       "       37.16666667, 31.28571429, 34.2       , 36.16666667, 36.625     ,\n",
       "       30.14285714, 30.71428571, 26.875     , 28.4       , 34.83333333,\n",
       "       35.16666667, 33.14285714, 30.66666667, 31.42857143, 31.5       ,\n",
       "       33.25      , 33.85714286, 31.57142857, 32.375     , 32.8       ,\n",
       "       31.        , 31.16666667, 29.        , 29.75      , 32.5       ,\n",
       "       28.875     , 31.75      , 31.125     , 30.5       , 26.83333333,\n",
       "       28.2       , 29.5       , 29.71428571, 28.33333333, 28.83333333,\n",
       "       27.16666667, 28.375     , 28.5       , 29.42857143, 29.66666667,\n",
       "       27.71428571, 26.6       , 27.42857143, 28.16666667, 32.14285714,\n",
       "       31.66666667, 30.83333333, 28.        , 30.85714286, 31.625     ,\n",
       "       29.25      , 29.8       , 28.66666667, 25.2       , 28.14285714,\n",
       "       26.85714286, 28.6       , 24.83333333, 23.85714286, 26.14285714,\n",
       "       26.42857143, 26.33333333, 24.57142857, 24.33333333, 24.875     ,\n",
       "       27.8       , 25.        , 22.8       , 23.        , 22.875     ,\n",
       "       22.85714286, 23.66666667, 21.625     , 20.625     , 21.16666667,\n",
       "       18.83333333, 20.57142857, 20.14285714, 19.85714286, 16.83333333,\n",
       "       18.85714286, 16.57142857, 17.75      , 17.625     , 17.        ,\n",
       "       15.57142857, 18.5       , 17.875     , 18.25      , 18.14285714,\n",
       "       19.125     , 18.625     , 17.25      , 17.5       , 17.14285714,\n",
       "       16.125     , 15.5       , 16.14285714, 14.75      , 14.875     ,\n",
       "       15.375     , 14.25      , 13.5       , 12.125     , 11.875     ,\n",
       "       10.875     , 10.57142857, 12.375     , 14.5       , 13.375     ,\n",
       "       12.875     , 11.42857143, 12.14285714, 12.        , 12.28571429,\n",
       "       14.625     , 13.57142857, 15.625     , 13.875     , 11.75      ,\n",
       "       14.375     , 18.42857143, 19.625     , 13.625     , 12.625     ,\n",
       "       13.25      , 13.        , 15.125     , 17.125     , 16.375     ,\n",
       "       18.125     , 18.75      , 18.875     , 18.375     , 19.875     ,\n",
       "       22.        , 20.71428571, 23.125     , 26.25      , 24.85714286,\n",
       "       21.75      , 22.75      , 22.375     , 24.625     , 25.125     ,\n",
       "       24.42857143, 25.875     , 24.125     , 26.75      , 30.125     ,\n",
       "       27.25      , 25.75      , 26.375     , 29.125     , 27.625     ,\n",
       "       27.125     , 24.25      , 25.625     , 29.375     , 34.875     ,\n",
       "       34.375     , 31.875     , 29.57142857, 31.375     , 29.625     ,\n",
       "       34.625     , 35.25      , 33.125     , 36.875     , 38.5       ,\n",
       "       37.625     , 37.875     , 37.25      , 30.25      , 33.875     ,\n",
       "       36.375     , 35.75      , 38.        , 32.25      , 34.75      ,\n",
       "       31.38888889, 34.70588235, 35.        , 36.125     , 35.875     ,\n",
       "       30.875     , 29.23529412, 30.375     , 30.42857143, 34.125     ,\n",
       "       27.875     , 26.5       , 31.25      , 28.75      , 26.57142857,\n",
       "       25.71428571, 26.        , 24.5       , 23.75      , 24.75      ,\n",
       "       25.5       , 23.875     , 23.375     , 23.625     , 21.375     ,\n",
       "       19.25      , 20.375     , 19.375     , 20.25      , 19.75      ,\n",
       "       15.28571429, 11.25      ,  9.375     ,  9.625     ,  9.875     ,\n",
       "        9.25      , 10.75      , 10.375     ,  9.        , 11.125     ,\n",
       "       11.625     , 10.625     , 13.75      , 11.71428571, 11.5       ,\n",
       "       12.75      , 15.        , 17.375     , 16.75      , 15.75      ,\n",
       "       21.14285714, 21.875     , 22.14285714, 16.25      , 19.5       ,\n",
       "       21.125     , 26.625     , 23.57142857, 24.375     , 28.125     ,\n",
       "       35.42857143, 35.125     , 27.75      , 35.375     , 35.625     ,\n",
       "       36.25      , 37.375     , 37.75      , 33.75      , 34.25      ,\n",
       "       33.375     , 36.5       , 35.71428571, 29.59375   , 27.5       ,\n",
       "       22.125     , 13.125     , 18.26666667, 15.5625    , 13.6       ,\n",
       "       13.26666667, 12.35714286, 12.06666667, 12.1875    , 11.73333333,\n",
       "       14.4375    , 11.1875    , 11.66666667, 14.5625    , 17.58333333,\n",
       "       19.5625    , 15.84615385, 15.26666667, 16.36363636, 17.09090909,\n",
       "       17.76923077, 18.13333333, 19.6875    , 19.2       , 17.06666667,\n",
       "       17.64285714, 18.21428571, 18.71428571, 19.46666667, 23.15384615,\n",
       "       21.42857143, 21.6875    , 22.5625    , 24.91666667, 24.93333333,\n",
       "       27.3125    , 23.93333333, 22.8125    , 23.71428571, 25.5625    ,\n",
       "       25.06666667, 24.5625    , 24.06666667, 23.9375    , 26.3125    ,\n",
       "       26.1875    , 26.78571429, 27.13333333, 25.0625    , 28.13333333,\n",
       "       24.66666667, 25.93333333, 32.3125    , 33.3125    , 32.8125    ,\n",
       "       29.93333333, 29.26666667, 30.73333333, 35.6875    , 34.66666667,\n",
       "       34.0625    , 31.91666667, 31.3125    , 33.4375    , 34.15384615,\n",
       "       34.07142857, 33.0625    , 34.6875    , 35.5       , 33.71428571,\n",
       "       30.6       , 31.4375    , 35.13333333, 33.53333333, 37.29411765,\n",
       "       36.5625    , 37.21428571, 37.4       , 36.13333333, 36.8       ,\n",
       "       32.21428571, 31.52631579, 33.2173913 , 35.26923077, 38.27272727,\n",
       "       36.0625    , 26.8125    , 32.64285714, 37.5625    , 38.2       ,\n",
       "       36.07142857, 35.73333333, 34.73333333, 33.5       , 34.1875    ,\n",
       "       30.9375    , 33.84615385, 36.4375    , 34.86666667, 34.3125    ,\n",
       "       30.78571429, 35.46666667, 29.5625    , 30.6875    , 33.26666667,\n",
       "       30.8       , 32.5625    , 30.4375    , 34.13333333, 31.9375    ,\n",
       "       30.3125    , 28.3125    , 29.53333333, 27.33333333, 33.11111111,\n",
       "       33.8       , 30.06666667, 33.11764706, 33.80952381, 31.61538462,\n",
       "       28.10714286, 29.03571429, 30.32142857, 28.93333333, 31.67857143,\n",
       "       31.33333333, 29.92857143, 29.88888889, 32.07142857, 33.18518519,\n",
       "       31.59259259, 32.18518519, 31.48      , 30.17857143, 31.52      ,\n",
       "       31.22222222, 31.78571429, 33.4       , 30.04      , 27.25925926,\n",
       "       27.96      , 30.73913043, 30.89473684, 31.69230769, 31.07692308,\n",
       "       31.1       , 30.55555556, 31.23076923, 31.64285714, 32.53333333,\n",
       "       31.72727273, 32.30769231, 33.44444444, 33.36      , 30.03703704,\n",
       "       31.24      , 31.13043478, 32.44      , 32.22727273, 32.54166667,\n",
       "       32.81481481, 33.26923077, 30.7037037 , 30.96      , 30.92      ,\n",
       "       29.77777778, 29.96296296, 27.74074074, 28.42857143, 28.92592593,\n",
       "       29.07692308, 28.40909091, 29.33333333, 28.04      , 27.57692308,\n",
       "       26.55555556, 25.51851852, 25.81481481, 24.82608696, 24.53846154,\n",
       "       24.38461538, 23.72727273, 25.64      , 24.81481481, 23.11538462,\n",
       "       22.92592593, 24.54545455, 23.73076923, 23.51851852, 23.92      ,\n",
       "       23.53846154, 24.2962963 , 23.34615385, 22.24      , 21.76923077,\n",
       "       21.73076923, 20.66666667, 22.25      , 21.53846154, 22.57894737,\n",
       "       22.82608696, 21.42105263, 23.6       , 24.29411765, 23.63636364,\n",
       "       22.45454545, 21.61111111, 19.86956522, 19.20833333, 21.20833333,\n",
       "       18.9       , 18.63636364, 18.53846154, 16.9       , 19.41666667,\n",
       "       16.44444444, 20.04166667, 19.90909091, 19.05      , 18.55555556,\n",
       "       18.16666667, 16.08333333, 19.8       , 18.05      , 17.28571429,\n",
       "       15.55      , 17.31818182, 16.85      , 17.2173913 , 15.23809524,\n",
       "       14.0952381 , 15.05263158,         nan])"
      ]
     },
     "execution_count": 12,
     "metadata": {},
     "output_type": "execute_result"
    }
   ],
   "source": [
    "serie.unique()"
   ]
  },
  {
   "cell_type": "code",
   "execution_count": 13,
   "id": "7731679e-dca4-489c-b385-fba0e666630c",
   "metadata": {},
   "outputs": [
    {
     "data": {
      "text/plain": [
       "617"
      ]
     },
     "execution_count": 13,
     "metadata": {},
     "output_type": "execute_result"
    }
   ],
   "source": [
    "serie.nunique(dropna=True)"
   ]
  },
  {
   "cell_type": "code",
   "execution_count": 14,
   "id": "6196f1fb-7fdc-4cf3-872e-9ea8934e1fbd",
   "metadata": {},
   "outputs": [
    {
     "data": {
      "text/plain": [
       "meantemp\n",
       "31.000000    18\n",
       "32.125000    15\n",
       "30.000000    15\n",
       "31.500000    14\n",
       "30.500000    14\n",
       "             ..\n",
       "15.562500     1\n",
       "18.266667     1\n",
       "32.800000     1\n",
       "29.593750     1\n",
       "15.052632     1\n",
       "Name: count, Length: 617, dtype: int64"
      ]
     },
     "execution_count": 14,
     "metadata": {},
     "output_type": "execute_result"
    }
   ],
   "source": [
    "serie.value_counts(normalize=False, sort=True, ascending=False, dropna=True)"
   ]
  },
  {
   "cell_type": "code",
   "execution_count": 15,
   "id": "f9ba59db-999b-4d89-b52e-979f106cde66",
   "metadata": {},
   "outputs": [
    {
     "name": "stdout",
     "output_type": "stream",
     "text": [
      "<class 'pandas.core.series.Series'>\n",
      "DatetimeIndex: 1466 entries, 2013-01-01 to 2017-01-05\n",
      "Freq: D\n",
      "Series name: meantemp\n",
      "Non-Null Count  Dtype  \n",
      "--------------  -----  \n",
      "1462 non-null   float64\n",
      "dtypes: float64(1)\n",
      "memory usage: 22.9 KB\n"
     ]
    }
   ],
   "source": [
    "serie.info()"
   ]
  },
  {
   "cell_type": "code",
   "execution_count": 16,
   "id": "4abce14c-6809-4d3c-8add-389458eed1e0",
   "metadata": {},
   "outputs": [
    {
     "data": {
      "text/plain": [
       "date\n",
       "2013-01-01    False\n",
       "2013-01-02    False\n",
       "2013-01-03    False\n",
       "2013-01-04    False\n",
       "2013-01-05    False\n",
       "              ...  \n",
       "2017-01-01     True\n",
       "2017-01-02     True\n",
       "2017-01-03     True\n",
       "2017-01-04     True\n",
       "2017-01-05    False\n",
       "Freq: D, Name: meantemp, Length: 1466, dtype: bool"
      ]
     },
     "execution_count": 16,
     "metadata": {},
     "output_type": "execute_result"
    }
   ],
   "source": [
    "serie.isnull()"
   ]
  },
  {
   "cell_type": "code",
   "execution_count": 17,
   "id": "311944a6-734c-4952-af25-8ccd68304bfd",
   "metadata": {},
   "outputs": [
    {
     "data": {
      "text/plain": [
       "date\n",
       "2013-01-01     True\n",
       "2013-01-02     True\n",
       "2013-01-03     True\n",
       "2013-01-04     True\n",
       "2013-01-05     True\n",
       "              ...  \n",
       "2017-01-01    False\n",
       "2017-01-02    False\n",
       "2017-01-03    False\n",
       "2017-01-04    False\n",
       "2017-01-05     True\n",
       "Freq: D, Name: meantemp, Length: 1466, dtype: bool"
      ]
     },
     "execution_count": 17,
     "metadata": {},
     "output_type": "execute_result"
    }
   ],
   "source": [
    "serie.notnull()"
   ]
  },
  {
   "cell_type": "code",
   "execution_count": 18,
   "id": "96eea17e-25f2-475e-829b-105d00cfba21",
   "metadata": {},
   "outputs": [
    {
     "data": {
      "text/plain": [
       "date\n",
       "2016-12-28    17.217391\n",
       "2016-12-29    15.238095\n",
       "2016-12-30    14.095238\n",
       "2016-12-31    15.052632\n",
       "2017-01-05    10.000000\n",
       "Name: meantemp, dtype: float64"
      ]
     },
     "execution_count": 18,
     "metadata": {},
     "output_type": "execute_result"
    }
   ],
   "source": [
    "serie1 = serie.dropna()\n",
    "serie1.tail()"
   ]
  },
  {
   "cell_type": "code",
   "execution_count": 19,
   "id": "1441e90a-1d7a-4e9b-a6fb-1650b0f769df",
   "metadata": {},
   "outputs": [
    {
     "data": {
      "text/plain": [
       "date\n",
       "2017-01-01     0.0\n",
       "2017-01-02     0.0\n",
       "2017-01-03     0.0\n",
       "2017-01-04     0.0\n",
       "2017-01-05    10.0\n",
       "Freq: D, Name: meantemp, dtype: float64"
      ]
     },
     "execution_count": 19,
     "metadata": {},
     "output_type": "execute_result"
    }
   ],
   "source": [
    "serie2 = serie.fillna(0)\n",
    "serie2.tail()"
   ]
  },
  {
   "cell_type": "code",
   "execution_count": 20,
   "id": "d33829e4-6e73-4fb5-a493-31c537ee6e05",
   "metadata": {},
   "outputs": [
    {
     "data": {
      "text/plain": [
       "date\n",
       "2017-01-01    15.052632\n",
       "2017-01-02    15.052632\n",
       "2017-01-03    15.052632\n",
       "2017-01-04    15.052632\n",
       "2017-01-05    10.000000\n",
       "Freq: D, Name: meantemp, dtype: float64"
      ]
     },
     "execution_count": 20,
     "metadata": {},
     "output_type": "execute_result"
    }
   ],
   "source": [
    "serie3 = serie.ffill()\n",
    "serie3.tail()"
   ]
  },
  {
   "cell_type": "code",
   "execution_count": 21,
   "id": "80c26e6a-3d03-4d7e-a006-f9d1553f0921",
   "metadata": {},
   "outputs": [
    {
     "data": {
      "text/plain": [
       "date\n",
       "2017-01-01    10.0\n",
       "2017-01-02    10.0\n",
       "2017-01-03    10.0\n",
       "2017-01-04    10.0\n",
       "2017-01-05    10.0\n",
       "Freq: D, Name: meantemp, dtype: float64"
      ]
     },
     "execution_count": 21,
     "metadata": {},
     "output_type": "execute_result"
    }
   ],
   "source": [
    "serie4 = serie.bfill()\n",
    "serie4.tail()"
   ]
  },
  {
   "cell_type": "code",
   "execution_count": 22,
   "id": "70e41d90-0b14-4dda-9017-2ca12ffdaa4e",
   "metadata": {},
   "outputs": [
    {
     "data": {
      "text/plain": [
       "date\n",
       "2017-01-01    14.042105\n",
       "2017-01-02    13.031579\n",
       "2017-01-03    12.021053\n",
       "2017-01-04    11.010526\n",
       "2017-01-05    10.000000\n",
       "Freq: D, Name: meantemp, dtype: float64"
      ]
     },
     "execution_count": 22,
     "metadata": {},
     "output_type": "execute_result"
    }
   ],
   "source": [
    "serie5 = serie.interpolate(method='linear')\n",
    "serie5.tail()"
   ]
  },
  {
   "cell_type": "code",
   "execution_count": 23,
   "id": "a4a1e952-8085-4f93-b228-ea0a9db61592",
   "metadata": {},
   "outputs": [
    {
     "name": "stdout",
     "output_type": "stream",
     "text": [
      "<class 'pandas.core.series.Series'>\n",
      "DatetimeIndex: 1462 entries, 2013-01-01 to 2017-01-05\n",
      "Series name: meantemp\n",
      "Non-Null Count  Dtype \n",
      "--------------  ----- \n",
      "1462 non-null   object\n",
      "dtypes: object(1)\n",
      "memory usage: 22.8+ KB\n"
     ]
    }
   ],
   "source": [
    "serie1 = serie1.astype('str')\n",
    "serie1.info()"
   ]
  },
  {
   "cell_type": "code",
   "execution_count": 24,
   "id": "279c8e85-7656-4753-a4b3-de48e96e9984",
   "metadata": {},
   "outputs": [
    {
     "data": {
      "text/plain": [
       "date\n",
       "2017-01-01    30.105263\n",
       "2017-01-02    30.105263\n",
       "2017-01-03    30.105263\n",
       "2017-01-04    30.105263\n",
       "2017-01-05    20.000000\n",
       "Freq: D, Name: meantemp, dtype: float64"
      ]
     },
     "execution_count": 24,
     "metadata": {},
     "output_type": "execute_result"
    }
   ],
   "source": [
    "serie3 = serie3.apply(lambda x: x * 2)\n",
    "serie3.tail()"
   ]
  },
  {
   "cell_type": "code",
   "execution_count": 25,
   "id": "2e5f47a9-e8c0-49ce-9377-9b86408295ba",
   "metadata": {},
   "outputs": [
    {
     "data": {
      "text/plain": [
       "date\n",
       "2017-01-01    10.0\n",
       "2017-01-02    10.0\n",
       "2017-01-03    10.0\n",
       "2017-01-04    10.0\n",
       "2017-01-05     0.0\n",
       "Freq: D, Name: meantemp, dtype: float64"
      ]
     },
     "execution_count": 25,
     "metadata": {},
     "output_type": "execute_result"
    }
   ],
   "source": [
    "serie2 = serie2.map({0: 10,10:0})\n",
    "serie2.tail()"
   ]
  },
  {
   "cell_type": "code",
   "execution_count": 26,
   "id": "118e5cfc-9806-4e77-97e1-a415ef3c7a31",
   "metadata": {},
   "outputs": [
    {
     "data": {
      "text/plain": [
       "date\n",
       "2016-06-04    38.200000\n",
       "2016-05-27    38.272727\n",
       "2013-05-24    38.428571\n",
       "2014-06-07    38.500000\n",
       "2013-05-25    38.714286\n",
       "Name: meantemp, dtype: float64"
      ]
     },
     "execution_count": 26,
     "metadata": {},
     "output_type": "execute_result"
    }
   ],
   "source": [
    "serie4 = serie4.sort_values()\n",
    "serie4.tail()"
   ]
  },
  {
   "cell_type": "code",
   "execution_count": 27,
   "id": "4cd90747-74bc-4dd7-a8c1-06974c384401",
   "metadata": {},
   "outputs": [
    {
     "data": {
      "text/plain": [
       "date\n",
       "2017-01-01    10.0\n",
       "2017-01-02    10.0\n",
       "2017-01-03    10.0\n",
       "2017-01-04    10.0\n",
       "2017-01-05    10.0\n",
       "Name: meantemp, dtype: float64"
      ]
     },
     "execution_count": 27,
     "metadata": {},
     "output_type": "execute_result"
    }
   ],
   "source": [
    "serie5 = serie4.sort_index()\n",
    "serie5.tail()"
   ]
  },
  {
   "cell_type": "code",
   "execution_count": 28,
   "id": "1217bb1b-79ec-41e7-b59e-4d40d79a799e",
   "metadata": {},
   "outputs": [
    {
     "data": {
      "text/plain": [
       "date\n",
       "2017-01-01    30.105263\n",
       "2017-01-02    30.105263\n",
       "2017-01-03    30.105263\n",
       "2017-01-04    30.105263\n",
       "2017-01-05    20.000000\n",
       "Freq: D, Name: meantemp, dtype: float64"
      ]
     },
     "execution_count": 28,
     "metadata": {},
     "output_type": "execute_result"
    }
   ],
   "source": [
    "serie6 = serie3.replace(10, 0)\n",
    "serie6.tail()"
   ]
  },
  {
   "cell_type": "code",
   "execution_count": 29,
   "id": "f56d9814-be29-4cea-be7a-03459d28e8fb",
   "metadata": {},
   "outputs": [
    {
     "data": {
      "text/plain": [
       "37274.4511987237"
      ]
     },
     "execution_count": 29,
     "metadata": {},
     "output_type": "execute_result"
    }
   ],
   "source": [
    "serie.sum()"
   ]
  },
  {
   "cell_type": "code",
   "execution_count": 30,
   "id": "f68cc770-cbb4-4180-af6e-da201771ced0",
   "metadata": {},
   "outputs": [
    {
     "data": {
      "text/plain": [
       "6.0"
      ]
     },
     "execution_count": 30,
     "metadata": {},
     "output_type": "execute_result"
    }
   ],
   "source": [
    "serie.min()"
   ]
  },
  {
   "cell_type": "code",
   "execution_count": 31,
   "id": "be0f17ce-012c-46b3-b893-8aed6314991b",
   "metadata": {},
   "outputs": [
    {
     "data": {
      "text/plain": [
       "38.71428571428572"
      ]
     },
     "execution_count": 31,
     "metadata": {},
     "output_type": "execute_result"
    }
   ],
   "source": [
    "serie.max()"
   ]
  },
  {
   "cell_type": "code",
   "execution_count": 32,
   "id": "b68d38b6-7645-4409-b960-8c518d4b0738",
   "metadata": {},
   "outputs": [
    {
     "data": {
      "text/plain": [
       "27.714285714285715"
      ]
     },
     "execution_count": 32,
     "metadata": {},
     "output_type": "execute_result"
    }
   ],
   "source": [
    "serie.median()"
   ]
  },
  {
   "cell_type": "code",
   "execution_count": 33,
   "id": "37c8f5f8-e76f-4c66-a69e-124b8321cf23",
   "metadata": {},
   "outputs": [
    {
     "data": {
      "text/plain": [
       "7.348102725432476"
      ]
     },
     "execution_count": 33,
     "metadata": {},
     "output_type": "execute_result"
    }
   ],
   "source": [
    "serie.std()"
   ]
  },
  {
   "cell_type": "code",
   "execution_count": 34,
   "id": "51024e06-2588-4e2f-a7ad-b639ed6a07aa",
   "metadata": {},
   "outputs": [
    {
     "data": {
      "text/plain": [
       "53.99461366350818"
      ]
     },
     "execution_count": 34,
     "metadata": {},
     "output_type": "execute_result"
    }
   ],
   "source": [
    "serie.var()"
   ]
  },
  {
   "cell_type": "code",
   "execution_count": 35,
   "id": "0adf52c7-01cc-49f0-b506-35c6ff1b3788",
   "metadata": {},
   "outputs": [
    {
     "name": "stderr",
     "output_type": "stream",
     "text": [
      "C:\\ProgramData\\anaconda3\\Lib\\site-packages\\numpy\\core\\_methods.py:53: RuntimeWarning: overflow encountered in reduce\n",
      "  return umr_prod(a, axis, dtype, out, keepdims, initial, where)\n"
     ]
    },
    {
     "data": {
      "text/plain": [
       "inf"
      ]
     },
     "execution_count": 35,
     "metadata": {},
     "output_type": "execute_result"
    }
   ],
   "source": [
    "serie.prod()"
   ]
  },
  {
   "cell_type": "code",
   "execution_count": 36,
   "id": "8be211b6-c347-4a7a-a54e-d2485d6557d1",
   "metadata": {},
   "outputs": [
    {
     "data": {
      "text/plain": [
       "date\n",
       "2013-01-01       10.000000\n",
       "2013-01-02       17.400000\n",
       "2013-01-03       24.566667\n",
       "2013-01-04       33.233333\n",
       "2013-01-05       39.233333\n",
       "                  ...     \n",
       "2017-01-01             NaN\n",
       "2017-01-02             NaN\n",
       "2017-01-03             NaN\n",
       "2017-01-04             NaN\n",
       "2017-01-05    37274.451199\n",
       "Freq: D, Name: meantemp, Length: 1466, dtype: float64"
      ]
     },
     "execution_count": 36,
     "metadata": {},
     "output_type": "execute_result"
    }
   ],
   "source": [
    "serie.cumsum()"
   ]
  },
  {
   "cell_type": "code",
   "execution_count": 37,
   "id": "e9cf762a-a182-46f4-bb71-1364fc22ec91",
   "metadata": {},
   "outputs": [
    {
     "name": "stderr",
     "output_type": "stream",
     "text": [
      "C:\\ProgramData\\anaconda3\\Lib\\site-packages\\numpy\\core\\fromnumeric.py:59: RuntimeWarning: overflow encountered in accumulate\n",
      "  return bound(*args, **kwds)\n"
     ]
    },
    {
     "data": {
      "text/plain": [
       "date\n",
       "2013-01-01    1.000000e+01\n",
       "2013-01-02    7.400000e+01\n",
       "2013-01-03    5.303333e+02\n",
       "2013-01-04    4.596222e+03\n",
       "2013-01-05    2.757733e+04\n",
       "                  ...     \n",
       "2017-01-01             NaN\n",
       "2017-01-02             NaN\n",
       "2017-01-03             NaN\n",
       "2017-01-04             NaN\n",
       "2017-01-05             inf\n",
       "Freq: D, Name: meantemp, Length: 1466, dtype: float64"
      ]
     },
     "execution_count": 37,
     "metadata": {},
     "output_type": "execute_result"
    }
   ],
   "source": [
    "serie.cumprod()"
   ]
  },
  {
   "cell_type": "code",
   "execution_count": 38,
   "id": "8ca89c01-fc9f-4081-8c06-2d4fae0359f4",
   "metadata": {},
   "outputs": [
    {
     "data": {
      "text/plain": [
       "date\n",
       "2013-01-01    10.000000\n",
       "2013-01-02    10.000000\n",
       "2013-01-03    10.000000\n",
       "2013-01-04    10.000000\n",
       "2013-01-05    10.000000\n",
       "                ...    \n",
       "2017-01-01          NaN\n",
       "2017-01-02          NaN\n",
       "2017-01-03          NaN\n",
       "2017-01-04          NaN\n",
       "2017-01-05    38.714286\n",
       "Freq: D, Name: meantemp, Length: 1466, dtype: float64"
      ]
     },
     "execution_count": 38,
     "metadata": {},
     "output_type": "execute_result"
    }
   ],
   "source": [
    "serie.cummax()"
   ]
  },
  {
   "cell_type": "code",
   "execution_count": 39,
   "id": "ef0a301b-9c3a-4a45-b59c-d814a612b54e",
   "metadata": {},
   "outputs": [
    {
     "data": {
      "text/plain": [
       "date\n",
       "2013-01-01    10.000000\n",
       "2013-01-02     7.400000\n",
       "2013-01-03     7.166667\n",
       "2013-01-04     7.166667\n",
       "2013-01-05     6.000000\n",
       "                ...    \n",
       "2017-01-01          NaN\n",
       "2017-01-02          NaN\n",
       "2017-01-03          NaN\n",
       "2017-01-04          NaN\n",
       "2017-01-05     6.000000\n",
       "Freq: D, Name: meantemp, Length: 1466, dtype: float64"
      ]
     },
     "execution_count": 39,
     "metadata": {},
     "output_type": "execute_result"
    }
   ],
   "source": [
    "serie.cummin()"
   ]
  },
  {
   "cell_type": "code",
   "execution_count": null,
   "id": "c6151002-709e-4f9a-b624-09795507b563",
   "metadata": {},
   "outputs": [],
   "source": []
  }
 ],
 "metadata": {
  "kernelspec": {
   "display_name": "Python 3 (ipykernel)",
   "language": "python",
   "name": "python3"
  },
  "language_info": {
   "codemirror_mode": {
    "name": "ipython",
    "version": 3
   },
   "file_extension": ".py",
   "mimetype": "text/x-python",
   "name": "python",
   "nbconvert_exporter": "python",
   "pygments_lexer": "ipython3",
   "version": "3.11.7"
  }
 },
 "nbformat": 4,
 "nbformat_minor": 5
}
