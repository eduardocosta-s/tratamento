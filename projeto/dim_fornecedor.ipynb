{
 "cells": [
  {
   "cell_type": "code",
   "execution_count": 1,
   "id": "ed6b5848-b61c-4aab-a35f-7dec8d3a5dbd",
   "metadata": {},
   "outputs": [],
   "source": [
    "from sqlalchemy import create_engine\n",
    "import pandas as pd"
   ]
  },
  {
   "cell_type": "code",
   "execution_count": 13,
   "id": "9ed09441-194c-434d-82c5-5e7a63058eff",
   "metadata": {},
   "outputs": [],
   "source": [
    "usuario = 'cursopython_aluno16'\n",
    "senha = 'Treina2017'\n",
    "host = 'cursopython.dev.br'\n",
    "port = 3306\n",
    "banco = 'cursopython_vendas16'"
   ]
  },
  {
   "cell_type": "code",
   "execution_count": 14,
   "id": "b73c8c8c-2609-422d-b746-9421ba99667e",
   "metadata": {},
   "outputs": [
    {
     "name": "stdout",
     "output_type": "stream",
     "text": [
      "Conexão com o banco 'cursopython_vendas16' estabelecida com sucesso.\n"
     ]
    }
   ],
   "source": [
    "try:\n",
    "    engine = create_engine(f\"mysql+pymysql://{usuario}:{senha}@{host}:{port}/{banco}\")\n",
    "    with engine.connect() as conn:\n",
    "        print(f\"Conexão com o banco '{banco}' estabelecida com sucesso.\")\n",
    "except exc.SQLAlchemyError as e:\n",
    "    print(f\"Erro ao conectar ao banco '{banco}': {e}\")\n",
    "    exit()"
   ]
  },
  {
   "cell_type": "code",
   "execution_count": 25,
   "id": "a0f04d16-c323-42de-8402-814c1bc972e1",
   "metadata": {},
   "outputs": [
    {
     "name": "stdout",
     "output_type": "stream",
     "text": [
      "Dimensão fornecedor carregada com sucesso.\n"
     ]
    }
   ],
   "source": [
    "sql = f\"\"\"\n",
    "      select id,empresa,contato \n",
    "      from fornecedores\n",
    "      \"\"\"\n",
    "fornecedores = pd.read_sql(sql,engine)\n",
    "fornecedores = fornecedores.reset_index()\n",
    "fornecedores.columns=['id','id_transacional','fornecedor','contato']\n",
    "fornecedores['id'] += 1\n",
    "try:\n",
    "    fornecedores.to_sql('dim_fornecedor',if_exists='append',index=False,con=engine)\n",
    "    print(\"Dimensão fornecedor carregada com sucesso.\")\n",
    "except exc.SQLAlchemyError as e:\n",
    "        print(f\"Erro ao carregar: {e}\")"
   ]
  },
  {
   "cell_type": "code",
   "execution_count": 22,
   "id": "708ab0c6-a7ce-468d-b00f-0348aa5fe842",
   "metadata": {},
   "outputs": [
    {
     "name": "stdout",
     "output_type": "stream",
     "text": [
      "      id  id_transacional fornecedor             contato\n",
      "0      1                1     OCULUS   Ana Laura Pacheco\n",
      "1      2                2     HYPERX   Maria Luiza Alves\n",
      "2      3                3   DYNABOOK  Luiz Otávio Vieira\n",
      "3      4                4      SHARP   José Pedro da Paz\n",
      "4      5                5      VALVE    Melissa Ferreira\n",
      "..   ...              ...        ...                 ...\n",
      "177  178              178    TABLEAU        Luigi Mendes\n",
      "178  179              179   LOGITECH     Rafaela Ribeiro\n",
      "179  180              180       ASUS       Melissa Lopes\n",
      "180  181              181    LINKSYS        Enzo Correia\n",
      "181  182              182     YF-51S         Bella Cunha\n",
      "\n",
      "[182 rows x 4 columns]\n"
     ]
    }
   ],
   "source": [
    "print(fornecedores)"
   ]
  },
  {
   "cell_type": "code",
   "execution_count": null,
   "id": "71a7b29e-f649-48ab-b536-4c9cd88fc4d6",
   "metadata": {},
   "outputs": [],
   "source": []
  }
 ],
 "metadata": {
  "kernelspec": {
   "display_name": "Python 3 (ipykernel)",
   "language": "python",
   "name": "python3"
  },
  "language_info": {
   "codemirror_mode": {
    "name": "ipython",
    "version": 3
   },
   "file_extension": ".py",
   "mimetype": "text/x-python",
   "name": "python",
   "nbconvert_exporter": "python",
   "pygments_lexer": "ipython3",
   "version": "3.11.7"
  }
 },
 "nbformat": 4,
 "nbformat_minor": 5
}
