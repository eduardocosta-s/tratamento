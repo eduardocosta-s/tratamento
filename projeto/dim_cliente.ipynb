{
 "cells": [
  {
   "cell_type": "code",
   "execution_count": 1,
   "id": "ea52134e-aaef-47e4-bdb6-5aac34d3a979",
   "metadata": {},
   "outputs": [],
   "source": [
    "from sqlalchemy import create_engine, exc\n",
    "import pandas as pd"
   ]
  },
  {
   "cell_type": "code",
   "execution_count": 2,
   "id": "545beeea-6f5e-4a29-9b60-dfd4d28d2a53",
   "metadata": {},
   "outputs": [],
   "source": [
    "usuario = 'cursopython_aluno16'\n",
    "senha = 'Treina2017'\n",
    "host = 'cursopython.dev.br'\n",
    "port = 3306\n",
    "banco = 'cursopython_vendas16'"
   ]
  },
  {
   "cell_type": "code",
   "execution_count": 3,
   "id": "ba69ff22-46a8-451c-8913-b2984b752841",
   "metadata": {},
   "outputs": [
    {
     "name": "stdout",
     "output_type": "stream",
     "text": [
      "Conexão com o banco 'cursopython_vendas16' estabelecida com sucesso.\n"
     ]
    }
   ],
   "source": [
    "try:\n",
    "    engine = create_engine(f\"mysql+pymysql://{usuario}:{senha}@{host}:{port}/{banco}\")\n",
    "    with engine.connect() as connori:\n",
    "        print(f\"Conexão com o banco '{banco}' estabelecida com sucesso.\")\n",
    "except exc.SQLAlchemyError as e:\n",
    "    print(f\"Erro ao conectar ao banco '{banco}': {e}\")\n",
    "    exit()"
   ]
  },
  {
   "cell_type": "code",
   "execution_count": 4,
   "id": "7b3ef04f-32a6-4c56-8a8a-773e571887b6",
   "metadata": {},
   "outputs": [
    {
     "name": "stdout",
     "output_type": "stream",
     "text": [
      "Dimensão cliente carregada com sucesso.\n"
     ]
    }
   ],
   "source": [
    "sql = f\"\"\"\n",
    "     select cl.id,cl.nome,cl.sexo,cl.profissao,cl.nacionalidade,pa2.pais as nac,cl.email,cl.nascimento,\n",
    "            cl.cadastro, cl.endereco,cl.bairro,cl.cidade,cl.estado,cl.cep,pa1.pais\n",
    "     from clientes cl\n",
    "     inner join paises pa1 on cl.pais = pa1.sigla\n",
    "     inner join paises pa2 on cl.nacionalidade = pa2.sigla\n",
    "     \"\"\"\n",
    "clientes = pd.read_sql(sql,engine)\n",
    "clientes = clientes.reset_index()\n",
    "clientes['provedor'] = clientes['email'].apply(lambda x: x.split('@')[1])\n",
    "clientes['enderecocompleto'] = clientes.apply(lambda row: \n",
    "    f\"{row['endereco']}, {row['bairro']}, {row['cidade']} - {row['estado']}, CEP: {row['cep']},{row['pais']}\",\n",
    "    axis=1\n",
    ")\n",
    "clientes['sexodescricao'] = clientes['sexo'].map({\n",
    "    'f': 'Feminino',\n",
    "    'F': 'Feminino',\n",
    "    'm': 'Masculino',\n",
    "    'M': 'Masculino',\n",
    "    'o': 'Outros',\n",
    "    'O': 'Outros'\n",
    "})\n",
    "clientes.columns=['id', 'id_transacional', 'nome_cliente', 'sexo_codigo', 'profissao', \n",
    "       'cod_nacionalidade', 'nacionalidade',\n",
    "       'email', 'nascimento', 'cadastro', 'endereco', 'bairro', 'cidade',\n",
    "       'estado', 'cep', 'pais', 'provedor_do_cliente', 'endereco_completo',\n",
    "       'sexo_descricao']\n",
    "clientes=clientes[['id', 'id_transacional', 'nome_cliente', 'sexo_codigo','sexo_descricao',\n",
    "                   'cod_nacionalidade', 'nacionalidade','profissao','email',\n",
    "                   'provedor_do_cliente','nascimento', 'cadastro','endereco_completo']]\n",
    "                   \n",
    "clientes['id'] += 1\n",
    "try:\n",
    "    clientes.to_sql('dim_cliente',if_exists='append',index=False,con=engine)\n",
    "    print(\"Dimensão cliente carregada com sucesso.\")\n",
    "except exc.SQLAlchemyError as e:\n",
    "        print(f\"Erro ao carregar: {e}\")\n"
   ]
  },
  {
   "cell_type": "code",
   "execution_count": null,
   "id": "20e50d1f-b808-4f9b-8ce2-4d9939039271",
   "metadata": {},
   "outputs": [],
   "source": []
  },
  {
   "cell_type": "code",
   "execution_count": null,
   "id": "d0a767b1-d257-4738-9eed-1a76b6652c71",
   "metadata": {},
   "outputs": [],
   "source": []
  }
 ],
 "metadata": {
  "kernelspec": {
   "display_name": "Python 3 (ipykernel)",
   "language": "python",
   "name": "python3"
  },
  "language_info": {
   "codemirror_mode": {
    "name": "ipython",
    "version": 3
   },
   "file_extension": ".py",
   "mimetype": "text/x-python",
   "name": "python",
   "nbconvert_exporter": "python",
   "pygments_lexer": "ipython3",
   "version": "3.11.7"
  }
 },
 "nbformat": 4,
 "nbformat_minor": 5
}
